{
 "cells": [
  {
   "cell_type": "markdown",
   "metadata": {},
   "source": [
    "# Ask HN Posts v.s. Show HN Posts on Hacker News"
   ]
  },
  {
   "cell_type": "markdown",
   "metadata": {
    "collapsed": true
   },
   "source": [
    "**Project Description:**\n",
    "\n",
    "In this project, I will work with a dataset of submissions to a popular technology site - Hacker News. Hacker News is a social news website focusing on computer science and entrepreneurship, run by Paul Graham's investment fund and startup incubator, Y Combinator. Hacker News is similar to reddit, where user-submitted stories (known as \"posts\") are voted and commented upon. Hacker News is extremely popular in technology and startup circles, and posts that make it to the top of Hacker News' listings can get hundreds of thousands of visitors as a result.\n",
    "\n",
    "There are two main pages on this site: \"Ask HN\" and \"Show HN\". Users submit Ask HN posts to ask the Hacker News community a specific question, while users submit Show HN posts to show the Hacker News community a project or a product.\n",
    "\n",
    "The mission of this project is to explore data on Ask HN posts and Show HN posts to find out:\n",
    "\n",
    "1. Which type of posts receives more comments on average.\n",
    "2. What is the best time of a day to create a post that would most likely to receive more comments on average."
   ]
  },
  {
   "cell_type": "markdown",
   "metadata": {},
   "source": [
    "**I. Importing and preparing data for analysis**"
   ]
  },
  {
   "cell_type": "code",
   "execution_count": 34,
   "metadata": {},
   "outputs": [],
   "source": [
    "from csv import reader\n",
    "\n",
    "opened_file = open('hacker_news.csv')\n",
    "read_file = reader(opened_file)\n",
    "hn = list(read_file)\n",
    "\n",
    "hn_header = hn[0]\n",
    "hn_data = hn[1:]"
   ]
  },
  {
   "cell_type": "code",
   "execution_count": 35,
   "metadata": {},
   "outputs": [],
   "source": [
    "def view_data(dataset, start, end, print_row_column = False):\n",
    "    dataset_subset = dataset[start:end]    \n",
    "    for row in dataset_subset:\n",
    "        print(row)\n",
    "        print('\\n') \n",
    "\n",
    "    if print_row_column:\n",
    "        print('Number of rows:', len(dataset))\n",
    "        print('Number of columns:', len(dataset[0]))"
   ]
  },
  {
   "cell_type": "code",
   "execution_count": 36,
   "metadata": {},
   "outputs": [
    {
     "name": "stdout",
     "output_type": "stream",
     "text": [
      "['id', 'title', 'url', 'num_points', 'num_comments', 'author', 'created_at']\n",
      "\n",
      "\n",
      "['12224879', 'Interactive Dynamic Video', 'http://www.interactivedynamicvideo.com/', '386', '52', 'ne0phyte', '8/4/2016 11:52']\n",
      "\n",
      "\n",
      "['10975351', 'How to Use Open Source and Shut the Fuck Up at the Same Time', 'http://hueniverse.com/2016/01/26/how-to-use-open-source-and-shut-the-fuck-up-at-the-same-time/', '39', '10', 'josep2', '1/26/2016 19:30']\n",
      "\n",
      "\n",
      "['11964716', \"Florida DJs May Face Felony for April Fools' Water Joke\", 'http://www.thewire.com/entertainment/2013/04/florida-djs-april-fools-water-joke/63798/', '2', '1', 'vezycash', '6/23/2016 22:20']\n",
      "\n",
      "\n",
      "['11919867', 'Technology ventures: From Idea to Enterprise', 'https://www.amazon.com/Technology-Ventures-Enterprise-Thomas-Byers/dp/0073523429', '3', '1', 'hswarna', '6/17/2016 0:01']\n",
      "\n",
      "\n",
      "['10301696', 'Note by Note: The Making of Steinway L1037 (2007)', 'http://www.nytimes.com/2007/11/07/movies/07stein.html?_r=0', '8', '2', 'walterbell', '9/30/2015 4:12']\n",
      "\n",
      "\n",
      "['10482257', 'Title II kills investment? Comcast and other ISPs are now spending more', 'http://arstechnica.com/business/2015/10/comcast-and-other-isps-boost-network-investment-despite-net-neutrality/', '53', '22', 'Deinos', '10/31/2015 9:48']\n",
      "\n",
      "\n",
      "['10557283', 'Nuts and Bolts Business Advice', '', '3', '4', 'shomberj', '11/13/2015 0:45']\n",
      "\n",
      "\n",
      "['12296411', 'Ask HN: How to improve my personal website?', '', '2', '6', 'ahmedbaracat', '8/16/2016 9:55']\n",
      "\n",
      "\n",
      "['11337617', 'Shims, Jigs and Other Woodworking Concepts to Conquer Technical Debt', 'http://firstround.com/review/shims-jigs-and-other-woodworking-concepts-to-conquer-technical-debt/', '34', '7', 'zt', '3/22/2016 16:18']\n",
      "\n",
      "\n",
      "Number of rows: 20100\n",
      "Number of columns: 7\n",
      "None\n"
     ]
    }
   ],
   "source": [
    "print(hn_header)\n",
    "print('\\n') \n",
    "print(view_data(hn_data, 0, 9, True))"
   ]
  },
  {
   "cell_type": "markdown",
   "metadata": {},
   "source": [
    "**II. Extracting relevant data**\n",
    "\n",
    "First of all, I am going to extract data on Ask HN posts and Show HN posts from the whole dataset, since this project is targeted at these two types of posts.\n",
    "\n",
    "Note: The titles of Ask HN posts start with \"Ask HN:\", and the titles of Show HN posts start with \"Show HN:\"."
   ]
  },
  {
   "cell_type": "code",
   "execution_count": 37,
   "metadata": {},
   "outputs": [],
   "source": [
    "ask_hn_posts = []\n",
    "show_hn_posts = []\n",
    "other_posts = []\n",
    "\n",
    "for row in hn_data:\n",
    "    ask_or_show = row[1]\n",
    "    ask_or_show = ask_or_show.lower()\n",
    "    \n",
    "    if ask_or_show.startswith('ask hn'):\n",
    "        ask_hn_posts.append(row)\n",
    "    elif ask_or_show.startswith('show hn'):\n",
    "        show_hn_posts.append(row)\n",
    "    else:\n",
    "        other_posts.append(row)"
   ]
  },
  {
   "cell_type": "code",
   "execution_count": 38,
   "metadata": {},
   "outputs": [
    {
     "name": "stdout",
     "output_type": "stream",
     "text": [
      "['12296411', 'Ask HN: How to improve my personal website?', '', '2', '6', 'ahmedbaracat', '8/16/2016 9:55']\n",
      "\n",
      "\n",
      "['10610020', 'Ask HN: Am I the only one outraged by Twitter shutting down share counts?', '', '28', '29', 'tkfx', '11/22/2015 13:43']\n",
      "\n",
      "\n",
      "['11610310', 'Ask HN: Aby recent changes to CSS that broke mobile?', '', '1', '1', 'polskibus', '5/2/2016 10:14']\n",
      "\n",
      "\n",
      "['12210105', 'Ask HN: Looking for Employee #3 How do I do it?', '', '1', '3', 'sph130', '8/2/2016 14:20']\n",
      "\n",
      "\n",
      "Number of rows: 1744\n",
      "Number of columns: 7\n",
      "None\n",
      "\n",
      "\n",
      "['10627194', 'Show HN: Wio Link  ESP8266 Based Web of Things Hardware Development Platform', 'https://iot.seeed.cc', '26', '22', 'kfihihc', '11/25/2015 14:03']\n",
      "\n",
      "\n",
      "['10646440', 'Show HN: Something pointless I made', 'http://dn.ht/picklecat/', '747', '102', 'dhotson', '11/29/2015 22:46']\n",
      "\n",
      "\n",
      "['11590768', 'Show HN: Shanhu.io, a programming playground powered by e8vm', 'https://shanhu.io', '1', '1', 'h8liu', '4/28/2016 18:05']\n",
      "\n",
      "\n",
      "['12178806', 'Show HN: Webscope  Easy way for web developers to communicate with Clients', 'http://webscopeapp.com', '3', '3', 'fastbrick', '7/28/2016 7:11']\n",
      "\n",
      "\n",
      "Number of rows: 1162\n",
      "Number of columns: 7\n",
      "None\n"
     ]
    }
   ],
   "source": [
    "print(view_data(ask_hn_posts, 0, 4, True))\n",
    "print('\\n') \n",
    "print(view_data(show_hn_posts, 0, 4, True))"
   ]
  },
  {
   "cell_type": "markdown",
   "metadata": {},
   "source": [
    "As we can see, there are 1,744 Ask HN posts and 1,162 Show HN posts in this dataset."
   ]
  },
  {
   "cell_type": "markdown",
   "metadata": {},
   "source": [
    "**III. Computing and comparing numbers of comments of Ask HN posts and Show HN posts**"
   ]
  },
  {
   "cell_type": "code",
   "execution_count": 39,
   "metadata": {},
   "outputs": [
    {
     "name": "stdout",
     "output_type": "stream",
     "text": [
      "Total number of Ask HN comments: 24483\n",
      "Average number of Ask HN comments: 14.038417431192661\n"
     ]
    }
   ],
   "source": [
    "ask_total_comments = 0\n",
    "\n",
    "for row in ask_hn_posts:\n",
    "    ask_comments = row[4]\n",
    "    ask_total_comments += int(ask_comments)\n",
    "    ask_avg_comments = ask_total_comments/len(ask_hn_posts)\n",
    "    \n",
    "print(\"Total number of Ask HN comments:\", ask_total_comments)\n",
    "print(\"Average number of Ask HN comments:\", ask_avg_comments)"
   ]
  },
  {
   "cell_type": "code",
   "execution_count": 40,
   "metadata": {},
   "outputs": [
    {
     "name": "stdout",
     "output_type": "stream",
     "text": [
      "Total number of Show HN comments: 11988\n",
      "Average number of Show HN comments: 10.31669535283993\n"
     ]
    }
   ],
   "source": [
    "show_total_comments = 0\n",
    "\n",
    "for row in show_hn_posts:\n",
    "    show_comments = row[4]\n",
    "    show_total_comments += int(show_comments)\n",
    "    show_avg_comments = show_total_comments/len(show_hn_posts)\n",
    "    \n",
    "print(\"Total number of Show HN comments:\", show_total_comments)\n",
    "print(\"Average number of Show HN comments:\", show_avg_comments)"
   ]
  },
  {
   "cell_type": "markdown",
   "metadata": {},
   "source": [
    "On average, Ask HN posts receive more comments than Show HN posts. "
   ]
  },
  {
   "cell_type": "markdown",
   "metadata": {},
   "source": [
    "**IV. Calculating the number of comments for Ask HN posts during each hour of the day**"
   ]
  },
  {
   "cell_type": "code",
   "execution_count": 41,
   "metadata": {},
   "outputs": [],
   "source": [
    "import datetime as dt\n",
    "\n",
    "ask_posts_by_hour = {}\n",
    "ask_comments_by_hour = {}\n",
    "\n",
    "for row in ask_hn_posts:\n",
    "    ask_post_time = row[6]\n",
    "    ask_post_comments = row[4]\n",
    "    ask_post_comments = int(ask_post_comments)\n",
    "    \n",
    "    ask_post_time = dt.datetime.strptime(ask_post_time, \"%m/%d/%Y %H:%M\")\n",
    "    ask_post_hour = ask_post_time.strftime(\"%H\")\n",
    "    \n",
    "    if ask_post_hour not in ask_posts_by_hour:\n",
    "        ask_posts_by_hour[ask_post_hour] = 1\n",
    "        ask_comments_by_hour[ask_post_hour] = ask_post_comments\n",
    "    else: \n",
    "        ask_posts_by_hour[ask_post_hour] += 1\n",
    "        ask_comments_by_hour[ask_post_hour] += ask_post_comments"
   ]
  },
  {
   "cell_type": "code",
   "execution_count": 42,
   "metadata": {},
   "outputs": [
    {
     "data": {
      "text/plain": [
       "{'09': 45,\n",
       " '13': 85,\n",
       " '10': 59,\n",
       " '14': 107,\n",
       " '16': 108,\n",
       " '23': 68,\n",
       " '12': 73,\n",
       " '17': 100,\n",
       " '15': 116,\n",
       " '21': 109,\n",
       " '20': 80,\n",
       " '02': 58,\n",
       " '18': 109,\n",
       " '03': 54,\n",
       " '05': 46,\n",
       " '19': 110,\n",
       " '01': 60,\n",
       " '22': 71,\n",
       " '08': 48,\n",
       " '04': 47,\n",
       " '00': 55,\n",
       " '06': 44,\n",
       " '07': 34,\n",
       " '11': 58}"
      ]
     },
     "execution_count": 42,
     "metadata": {},
     "output_type": "execute_result"
    }
   ],
   "source": [
    "# The number of Ask HN posts created during each hour of the day\n",
    "\n",
    "ask_posts_by_hour"
   ]
  },
  {
   "cell_type": "code",
   "execution_count": 43,
   "metadata": {},
   "outputs": [
    {
     "data": {
      "text/plain": [
       "{'09': 251,\n",
       " '13': 1253,\n",
       " '10': 793,\n",
       " '14': 1416,\n",
       " '16': 1814,\n",
       " '23': 543,\n",
       " '12': 687,\n",
       " '17': 1146,\n",
       " '15': 4477,\n",
       " '21': 1745,\n",
       " '20': 1722,\n",
       " '02': 1381,\n",
       " '18': 1439,\n",
       " '03': 421,\n",
       " '05': 464,\n",
       " '19': 1188,\n",
       " '01': 683,\n",
       " '22': 479,\n",
       " '08': 492,\n",
       " '04': 337,\n",
       " '00': 447,\n",
       " '06': 397,\n",
       " '07': 267,\n",
       " '11': 641}"
      ]
     },
     "execution_count": 43,
     "metadata": {},
     "output_type": "execute_result"
    }
   ],
   "source": [
    "# The number of comments received during each hour of the day\n",
    "\n",
    "ask_comments_by_hour"
   ]
  },
  {
   "cell_type": "code",
   "execution_count": 44,
   "metadata": {},
   "outputs": [],
   "source": [
    "# The average number of comments per post during each hour of the day\n",
    "\n",
    "avg_askhn_by_hour = []\n",
    "\n",
    "for hour in ask_posts_by_hour:\n",
    "    avg_askhn_by_hour.append([hour, ask_comments_by_hour[hour]/ask_posts_by_hour[hour]])"
   ]
  },
  {
   "cell_type": "code",
   "execution_count": 45,
   "metadata": {},
   "outputs": [
    {
     "name": "stdout",
     "output_type": "stream",
     "text": [
      "['09', 5.5777777777777775]\n",
      "\n",
      "\n",
      "['13', 14.741176470588234]\n",
      "\n",
      "\n",
      "['10', 13.440677966101696]\n",
      "\n",
      "\n",
      "['14', 13.233644859813085]\n",
      "\n",
      "\n",
      "['16', 16.796296296296298]\n",
      "\n",
      "\n",
      "Number of rows: 24\n",
      "Number of columns: 2\n",
      "None\n"
     ]
    }
   ],
   "source": [
    "print(view_data(avg_askhn_by_hour, 0, 5, True))"
   ]
  },
  {
   "cell_type": "code",
   "execution_count": 46,
   "metadata": {},
   "outputs": [],
   "source": [
    "# Sorting data\n",
    "\n",
    "sort_avg_askhn_by_hour = []\n",
    "\n",
    "for row in avg_askhn_by_hour:\n",
    "    sort_avg_askhn_by_hour.append([row[1], row[0]])\n",
    "      \n",
    "sort_avg_askhn_by_hour = sorted(sort_avg_askhn_by_hour, reverse = True)"
   ]
  },
  {
   "cell_type": "code",
   "execution_count": 47,
   "metadata": {
    "scrolled": true
   },
   "outputs": [
    {
     "name": "stdout",
     "output_type": "stream",
     "text": [
      "[38.5948275862069, '15']\n",
      "\n",
      "\n",
      "[23.810344827586206, '02']\n",
      "\n",
      "\n",
      "[21.525, '20']\n",
      "\n",
      "\n",
      "[16.796296296296298, '16']\n",
      "\n",
      "\n",
      "[16.009174311926607, '21']\n",
      "\n",
      "\n",
      "[14.741176470588234, '13']\n",
      "\n",
      "\n",
      "[13.440677966101696, '10']\n",
      "\n",
      "\n",
      "[13.233644859813085, '14']\n",
      "\n",
      "\n",
      "[13.20183486238532, '18']\n",
      "\n",
      "\n",
      "[11.46, '17']\n",
      "\n",
      "\n",
      "[11.383333333333333, '01']\n",
      "\n",
      "\n",
      "[11.051724137931034, '11']\n",
      "\n",
      "\n",
      "[10.8, '19']\n",
      "\n",
      "\n",
      "[10.25, '08']\n",
      "\n",
      "\n",
      "[10.08695652173913, '05']\n",
      "\n",
      "\n",
      "[9.41095890410959, '12']\n",
      "\n",
      "\n",
      "[9.022727272727273, '06']\n",
      "\n",
      "\n",
      "[8.127272727272727, '00']\n",
      "\n",
      "\n",
      "[7.985294117647059, '23']\n",
      "\n",
      "\n",
      "[7.852941176470588, '07']\n",
      "\n",
      "\n",
      "[7.796296296296297, '03']\n",
      "\n",
      "\n",
      "[7.170212765957447, '04']\n",
      "\n",
      "\n",
      "[6.746478873239437, '22']\n",
      "\n",
      "\n",
      "[5.5777777777777775, '09']\n",
      "\n",
      "\n",
      "Number of rows: 24\n",
      "Number of columns: 2\n",
      "None\n"
     ]
    }
   ],
   "source": [
    "print(view_data(sort_avg_askhn_by_hour, 0, 24, True))"
   ]
  },
  {
   "cell_type": "code",
   "execution_count": 48,
   "metadata": {},
   "outputs": [
    {
     "name": "stdout",
     "output_type": "stream",
     "text": [
      "Top 5 Best Time for Creating Ask HN Posts:\n",
      "\n",
      "\n",
      "15:00: 38.59 average comments per posts\n",
      "02:00: 23.81 average comments per posts\n",
      "20:00: 21.52 average comments per posts\n",
      "16:00: 16.80 average comments per posts\n",
      "21:00: 16.01 average comments per posts\n"
     ]
    }
   ],
   "source": [
    "# Top 5 Best Time for Creating Ask HN Posts\n",
    "\n",
    "print(\"Top 5 Best Time for Creating Ask HN Posts:\")\n",
    "print('\\n')\n",
    "\n",
    "for row in sort_avg_askhn_by_hour[0:5]:\n",
    "    average = row[0]\n",
    "    hour = row[1]\n",
    "\n",
    "    hour_format = \"%H\"\n",
    "    hour_ob = dt.datetime.strptime(hour, hour_format)\n",
    "    hour = hour_ob.strftime(\"%H:%M\")\n",
    "    \n",
    "    hour_string = \"{h}: {a:.2f} average comments per posts\".format(h = hour, a = average)\n",
    "    print(hour_string)"
   ]
  },
  {
   "cell_type": "markdown",
   "metadata": {},
   "source": [
    "It is shown that 15:00, 02:00, 20:00, 16:00, 21:00 (EST) are better time for creating an Ask HN post with a higher chance to receive more comments."
   ]
  },
  {
   "cell_type": "markdown",
   "metadata": {},
   "source": [
    "**V. Calculating the number of comments for Show HN posts during each hour of the day**"
   ]
  },
  {
   "cell_type": "code",
   "execution_count": 49,
   "metadata": {},
   "outputs": [],
   "source": [
    "show_posts_by_hour = {}\n",
    "show_comments_by_hour = {}\n",
    "\n",
    "for row in show_hn_posts:\n",
    "    show_post_time = row[6]\n",
    "    show_post_comments = row[4]\n",
    "    show_post_comments = int(show_post_comments)\n",
    "    \n",
    "    show_post_time = dt.datetime.strptime(show_post_time, \"%m/%d/%Y %H:%M\")\n",
    "    show_post_hour = show_post_time.strftime(\"%H\")\n",
    "    \n",
    "    if show_post_hour not in show_posts_by_hour:\n",
    "        show_posts_by_hour[show_post_hour] = 1\n",
    "        show_comments_by_hour[show_post_hour] = show_post_comments\n",
    "    else: \n",
    "        show_posts_by_hour[show_post_hour] += 1\n",
    "        show_comments_by_hour[show_post_hour] += show_post_comments"
   ]
  },
  {
   "cell_type": "code",
   "execution_count": 50,
   "metadata": {},
   "outputs": [
    {
     "data": {
      "text/plain": [
       "{'14': 86,\n",
       " '22': 46,\n",
       " '18': 61,\n",
       " '07': 26,\n",
       " '20': 60,\n",
       " '05': 19,\n",
       " '16': 93,\n",
       " '19': 55,\n",
       " '15': 78,\n",
       " '03': 27,\n",
       " '17': 93,\n",
       " '06': 16,\n",
       " '02': 30,\n",
       " '13': 99,\n",
       " '08': 34,\n",
       " '21': 47,\n",
       " '04': 26,\n",
       " '11': 44,\n",
       " '12': 61,\n",
       " '23': 36,\n",
       " '09': 30,\n",
       " '01': 28,\n",
       " '10': 36,\n",
       " '00': 31}"
      ]
     },
     "execution_count": 50,
     "metadata": {},
     "output_type": "execute_result"
    }
   ],
   "source": [
    "show_posts_by_hour"
   ]
  },
  {
   "cell_type": "code",
   "execution_count": 51,
   "metadata": {},
   "outputs": [
    {
     "data": {
      "text/plain": [
       "{'14': 1156,\n",
       " '22': 570,\n",
       " '18': 962,\n",
       " '07': 299,\n",
       " '20': 612,\n",
       " '05': 58,\n",
       " '16': 1084,\n",
       " '19': 539,\n",
       " '15': 632,\n",
       " '03': 287,\n",
       " '17': 911,\n",
       " '06': 142,\n",
       " '02': 127,\n",
       " '13': 946,\n",
       " '08': 165,\n",
       " '21': 272,\n",
       " '04': 247,\n",
       " '11': 491,\n",
       " '12': 720,\n",
       " '23': 447,\n",
       " '09': 291,\n",
       " '01': 246,\n",
       " '10': 297,\n",
       " '00': 487}"
      ]
     },
     "execution_count": 51,
     "metadata": {},
     "output_type": "execute_result"
    }
   ],
   "source": [
    "show_comments_by_hour"
   ]
  },
  {
   "cell_type": "code",
   "execution_count": 52,
   "metadata": {},
   "outputs": [
    {
     "name": "stdout",
     "output_type": "stream",
     "text": [
      "Top 5 Best Time for Creating Show HN Posts:\n",
      "\n",
      "\n",
      "18:00: 15.77 average comments per posts\n",
      "00:00: 15.71 average comments per posts\n",
      "14:00: 13.44 average comments per posts\n",
      "23:00: 12.42 average comments per posts\n",
      "22:00: 12.39 average comments per posts\n"
     ]
    }
   ],
   "source": [
    "avg_showhn_by_hour = []\n",
    "\n",
    "for hour in show_posts_by_hour:\n",
    "    avg_showhn_by_hour.append([hour, show_comments_by_hour[hour]/show_posts_by_hour[hour]])\n",
    "    \n",
    "sort_avg_showhn_by_hour = []\n",
    "\n",
    "for row in avg_showhn_by_hour:\n",
    "    sort_avg_showhn_by_hour.append([row[1], row[0]])\n",
    "      \n",
    "sort_avg_showhn_by_hour = sorted(sort_avg_showhn_by_hour, reverse = True)\n",
    "\n",
    "print(\"Top 5 Best Time for Creating Show HN Posts:\")\n",
    "print('\\n')\n",
    "\n",
    "for row in sort_avg_showhn_by_hour[0:5]:\n",
    "    average = row[0]\n",
    "    hour = row[1]\n",
    "\n",
    "    hour_format = \"%H\"\n",
    "    hour_ob = dt.datetime.strptime(hour, hour_format)\n",
    "    hour = hour_ob.strftime(\"%H:%M\")\n",
    "    \n",
    "    hour_string = \"{h}: {a:.2f} average comments per posts\".format(h = hour, a = average)\n",
    "    print(hour_string)"
   ]
  },
  {
   "cell_type": "markdown",
   "metadata": {},
   "source": [
    "It is shown that 18:00, 00:00, 14:00, 23:00, 22:00 (EST) are better time for creating a Show HN post with a higher chance to receive more comments."
   ]
  },
  {
   "cell_type": "markdown",
   "metadata": {},
   "source": [
    "**Summary**\n",
    "\n",
    "In this project, I've discovered that:\n",
    "\n",
    "1. On the Hacker News website, users seem to be more active on the \"Ask HN\" page than on the \"Show HN\" page because the former page contains more posts and comments per post than the latter on average. \n",
    "2. Furthermore, it is recommended that one creates an Ask HN post during the hours of 15:00, 02:00, 20:00, 16:00, 21:00 (EST) or a Show HN post during the hours of 18:00, 00:00, 14:00, 23:00, 22:00 (EST) if he/she aims for higher engagements, since posts created during these hours receive more comments on average."
   ]
  }
 ],
 "metadata": {
  "kernelspec": {
   "display_name": "Python 3",
   "language": "python",
   "name": "python3"
  },
  "language_info": {
   "codemirror_mode": {
    "name": "ipython",
    "version": 3
   },
   "file_extension": ".py",
   "mimetype": "text/x-python",
   "name": "python",
   "nbconvert_exporter": "python",
   "pygments_lexer": "ipython3",
   "version": "3.7.6"
  }
 },
 "nbformat": 4,
 "nbformat_minor": 2
}
